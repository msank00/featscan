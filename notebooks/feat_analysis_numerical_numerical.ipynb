{
 "cells": [
  {
   "cell_type": "markdown",
   "id": "b9facad7-3b10-4ae2-b22b-193b369c762a",
   "metadata": {},
   "source": [
    "https://towardsdatascience.com/mistakes-in-applying-univariate-feature-selection-methods-34c43ce8b93d"
   ]
  },
  {
   "cell_type": "code",
   "execution_count": 5,
   "id": "f1042ccf-ffb5-4e75-a8e4-95a4457b4a7f",
   "metadata": {},
   "outputs": [],
   "source": [
    "%matplotlib inline\n",
    "import matplotlib.pyplot as plt"
   ]
  },
  {
   "cell_type": "code",
   "execution_count": 1,
   "id": "524e57fd-c755-43bc-a059-ae84da35ee82",
   "metadata": {},
   "outputs": [],
   "source": [
    "import numpy as np"
   ]
  },
  {
   "cell_type": "code",
   "execution_count": 22,
   "id": "ce341a82-3657-42db-a717-fecae43f50ab",
   "metadata": {},
   "outputs": [],
   "source": [
    "mu1, sigma1 = 0, 0.1 # mean and standard deviation\n",
    "mu2, sigma2 = 0.05, 0.1 # mean and standard deviation\n",
    "mu3, sigma3 = -0.4, 0.1 # mean and standard deviation"
   ]
  },
  {
   "cell_type": "code",
   "execution_count": 43,
   "id": "e4ee22b2-4a49-433e-84d1-325af464d60c",
   "metadata": {},
   "outputs": [],
   "source": [
    "s1 = np.random.normal(mu1, sigma1, 100000)\n",
    "s2 = np.random.normal(mu1, sigma1, 100000)\n",
    "s3 = np.random.normal(mu3, sigma3, 100000)"
   ]
  },
  {
   "cell_type": "code",
   "execution_count": 44,
   "id": "6f3ad49a-c518-4de3-a95d-fdb70efae003",
   "metadata": {},
   "outputs": [
    {
     "data": {
      "image/png": "[encoded data removed]",
      "text/plain": [
       "<Figure size 432x288 with 1 Axes>"
      ]
     },
     "metadata": {
      "needs_background": "light"
     },
     "output_type": "display_data"
    }
   ],
   "source": [
    "plt.hist(s1,bins=20, alpha=0.5, label=\"s1\")\n",
    "plt.hist(s2,bins=20, alpha=0.5, label=\"s2\")\n",
    "plt.hist(s3,bins=20, alpha=0.5, label=\"s3\")\n",
    "plt.legend();"
   ]
  },
  {
   "cell_type": "code",
   "execution_count": 45,
   "id": "4f1227a6-c1fd-4638-8a77-95b008d92a08",
   "metadata": {},
   "outputs": [],
   "source": [
    "from numpy import cov"
   ]
  },
  {
   "cell_type": "code",
   "execution_count": 46,
   "id": "c0083789-41e6-456a-9fa1-f1515e2b8f23",
   "metadata": {},
   "outputs": [
    {
     "data": {
      "text/plain": [
       "array([[1.00123885e-02, 6.10955219e-05],\n",
       "       [6.10955219e-05, 9.97591594e-03]])"
      ]
     },
     "execution_count": 46,
     "metadata": {},
     "output_type": "execute_result"
    }
   ],
   "source": [
    "cov(s1,s2)"
   ]
  },
  {
   "cell_type": "code",
   "execution_count": 47,
   "id": "3fe7e2bc-d6a5-40c6-8acc-f49cbc7e2188",
   "metadata": {},
   "outputs": [
    {
     "data": {
      "text/plain": [
       "array([[ 1.00123885e-02, -8.52308635e-05],\n",
       "       [-8.52308635e-05,  1.00061662e-02]])"
      ]
     },
     "execution_count": 47,
     "metadata": {},
     "output_type": "execute_result"
    }
   ],
   "source": [
    "cov(s1,s3)"
   ]
  },
  {
   "cell_type": "code",
   "execution_count": 48,
   "id": "6e33d820-d8f0-45c1-9b3a-81679505c29d",
   "metadata": {},
   "outputs": [],
   "source": [
    "# plt.scatter(s1,s2, alpha=0.2)\n",
    "# plt.scatter(s1,s3, alpha=0.2);"
   ]
  },
  {
   "cell_type": "code",
   "execution_count": 49,
   "id": "b4defc9e-d36f-456b-a618-b17bfcd91b46",
   "metadata": {},
   "outputs": [],
   "source": [
    "from scipy.stats import pearsonr"
   ]
  },
  {
   "cell_type": "code",
   "execution_count": 50,
   "id": "326a7458-4e55-4350-8bfd-c1bf1ddacb13",
   "metadata": {},
   "outputs": [
    {
     "data": {
      "text/plain": [
       "(0.006113137184493527, 0.053219247824380186)"
      ]
     },
     "execution_count": 50,
     "metadata": {},
     "output_type": "execute_result"
    }
   ],
   "source": [
    "# calculate Pearson's correlation\n",
    "v = pearsonr(s1, s2)\n",
    "v"
   ]
  },
  {
   "cell_type": "code",
   "execution_count": 51,
   "id": "04c44ec2-1dad-41ee-bff4-c8caa4ab44c7",
   "metadata": {},
   "outputs": [
    {
     "data": {
      "text/plain": [
       "(-0.004236608489929468, 0.18033557870073103)"
      ]
     },
     "execution_count": 51,
     "metadata": {},
     "output_type": "execute_result"
    }
   ],
   "source": [
    "# calculate Pearson's correlation\n",
    "v = pearsonr(s2, s3)\n",
    "v"
   ]
  },
  {
   "cell_type": "code",
   "execution_count": 54,
   "id": "ea6ce83e-8517-46bf-822e-b72f091405b7",
   "metadata": {},
   "outputs": [],
   "source": [
    "import pandas as pd"
   ]
  },
  {
   "cell_type": "code",
   "execution_count": null,
   "id": "7cdf9469-f2e4-4aca-8a52-b2b01ff62a10",
   "metadata": {},
   "outputs": [],
   "source": []
  },
  {
   "cell_type": "code",
   "execution_count": 82,
   "id": "18dd7689-fa64-4e9a-8d61-1d248c94b519",
   "metadata": {},
   "outputs": [
    {
     "name": "stdout",
     "output_type": "stream",
     "text": [
      "(100, 10)\n"
     ]
    }
   ],
   "source": [
    "# pearson's correlation feature selection for numeric input and numeric output\n",
    "from sklearn.datasets import make_regression\n",
    "from sklearn.feature_selection import SelectKBest\n",
    "from sklearn.feature_selection import f_regression\n",
    "# generate dataset\n",
    "X, y = make_regression(n_samples=100, n_features=100, n_informative=10)\n",
    "# define feature selection\n",
    "fs = SelectKBest(score_func=f_regression, k=10)\n",
    "# apply feature selection\n",
    "X_selected = fs.fit_transform(X, y)\n",
    "print(X_selected.shape)"
   ]
  },
  {
   "cell_type": "code",
   "execution_count": 61,
   "id": "8c1dcf96-c409-49ca-8655-7dac8891aefb",
   "metadata": {},
   "outputs": [],
   "source": [
    "df_X = pd.DataFrame(X, columns=[f\"feat_{i}\" for i in range(1,101)])"
   ]
  },
  {
   "cell_type": "code",
   "execution_count": 62,
   "id": "43e3efbd-e076-4a27-9dcb-24460aa7503e",
   "metadata": {},
   "outputs": [],
   "source": [
    "df_y = pd.DataFrame(y, columns=[\"target\"])"
   ]
  },
  {
   "cell_type": "code",
   "execution_count": 63,
   "id": "d6d441ef-6a2a-4a6d-b6b0-301ad0d0bd58",
   "metadata": {},
   "outputs": [
    {
     "data": {
      "text/html": [
       "<div>\n",
       "<style scoped>\n",
       "    .dataframe tbody tr th:only-of-type {\n",
       "        vertical-align: middle;\n",
       "    }\n",
       "\n",
       "    .dataframe tbody tr th {\n",
       "        vertical-align: top;\n",
       "    }\n",
       "\n",
       "    .dataframe thead th {\n",
       "        text-align: right;\n",
       "    }\n",
       "</style>\n",
       "<table border=\"1\" class=\"dataframe\">\n",
       "  <thead>\n",
       "    <tr style=\"text-align: right;\">\n",
       "      <th></th>\n",
       "      <th>target</th>\n",
       "    </tr>\n",
       "  </thead>\n",
       "  <tbody>\n",
       "    <tr>\n",
       "      <th>0</th>\n",
       "      <td>-170.065769</td>\n",
       "    </tr>\n",
       "    <tr>\n",
       "      <th>1</th>\n",
       "      <td>-127.942190</td>\n",
       "    </tr>\n",
       "    <tr>\n",
       "      <th>2</th>\n",
       "      <td>-81.659359</td>\n",
       "    </tr>\n",
       "    <tr>\n",
       "      <th>3</th>\n",
       "      <td>-85.869516</td>\n",
       "    </tr>\n",
       "    <tr>\n",
       "      <th>4</th>\n",
       "      <td>-110.273169</td>\n",
       "    </tr>\n",
       "  </tbody>\n",
       "</table>\n",
       "</div>"
      ],
      "text/plain": [
       "       target\n",
       "0 -170.065769\n",
       "1 -127.942190\n",
       "2  -81.659359\n",
       "3  -85.869516\n",
       "4 -110.273169"
      ]
     },
     "execution_count": 63,
     "metadata": {},
     "output_type": "execute_result"
    }
   ],
   "source": [
    "df_y.head()"
   ]
  },
  {
   "cell_type": "code",
   "execution_count": 103,
   "id": "8925cba6-bb73-4b40-8c8d-6610e72ced3c",
   "metadata": {},
   "outputs": [],
   "source": [
    "def generate_regression_data(n_samples=1000, n_features=100, n_informative=10, random_state:int=None):\n",
    "    X, y = make_regression(n_samples=n_samples, n_features=n_features, n_informative=n_informative, random_state=random_state)\n",
    "    data = np.hstack((X,y.reshape(-1,1)))\n",
    "    num_cols = [f\"num_feat_{i}\" for i in range(1,101)]\n",
    "    target_col = [\"target\"]\n",
    "    df = pd.DataFrame(data, columns=num_cols+target_col)\n",
    "    return df"
   ]
  },
  {
   "cell_type": "code",
   "execution_count": 104,
   "id": "d3016b2e-e61f-4785-932b-c7d83591f7c3",
   "metadata": {},
   "outputs": [],
   "source": [
    "df = generate_regression_data(random_state=40)\n",
    "cols = df.columns.values.tolist()\n",
    "num_cols = cols[:-1]\n",
    "target_col = cols[-1]"
   ]
  },
  {
   "cell_type": "markdown",
   "id": "89eba089-6efa-4999-a5bd-c56ab573751b",
   "metadata": {},
   "source": [
    "# Linear Regression F-test (f_regression)\n",
    "\n",
    "To understand this test, we need a brief recap of linear regression. In general, the `Regression F-test` is used to test whether the regression model fits the data better than the model with no feature.\n",
    "\n",
    "In the case of simple linear regression (regression with a single feature), this is equivalent to testing whether there is any significant linear relationship between that `feature` and the `target`. In particular, the `p-value` for the **F-test is equivalent to the p-value for the t-test on slope coefficient**.\n",
    "\n",
    "And this is the idea behind the scikit-learn f_regression method:\n",
    "\n",
    ">> It breaks your group of features into several simple linear regression models and returns the F-score of that model as the F-score for that feature.\n",
    "\n",
    "You can check this quite easily using a few lines of codes.\n",
    "\n",
    "- For more details, check [here](https://towardsdatascience.com/mistakes-in-applying-univariate-feature-selection-methods-34c43ce8b93d)"
   ]
  },
  {
   "cell_type": "code",
   "execution_count": 94,
   "id": "cf350c77-cb12-44f4-903e-4edba2d71b3c",
   "metadata": {},
   "outputs": [
    {
     "data": {
      "text/plain": [
       "SelectKBest(score_func=<function f_regression at 0x7f711d5771f0>)"
      ]
     },
     "execution_count": 94,
     "metadata": {},
     "output_type": "execute_result"
    }
   ],
   "source": [
    "fs = SelectKBest(score_func=f_regression, k=10)\n",
    "fs.fit(df[num_cols], df[target_col])"
   ]
  },
  {
   "cell_type": "code",
   "execution_count": 99,
   "id": "33520241-416f-4b9a-b086-2a779a266347",
   "metadata": {},
   "outputs": [],
   "source": [
    "feat_cols_index = fs.get_support(indices=True)\n",
    "features_df_new = df[num_cols].iloc[:,feat_cols_index]"
   ]
  },
  {
   "cell_type": "code",
   "execution_count": 100,
   "id": "d2489bbf-629f-4e68-9d80-55fa976eac89",
   "metadata": {},
   "outputs": [
    {
     "data": {
      "text/html": [
       "<div>\n",
       "<style scoped>\n",
       "    .dataframe tbody tr th:only-of-type {\n",
       "        vertical-align: middle;\n",
       "    }\n",
       "\n",
       "    .dataframe tbody tr th {\n",
       "        vertical-align: top;\n",
       "    }\n",
       "\n",
       "    .dataframe thead th {\n",
       "        text-align: right;\n",
       "    }\n",
       "</style>\n",
       "<table border=\"1\" class=\"dataframe\">\n",
       "  <thead>\n",
       "    <tr style=\"text-align: right;\">\n",
       "      <th></th>\n",
       "      <th>num_feat_15</th>\n",
       "      <th>num_feat_17</th>\n",
       "      <th>num_feat_23</th>\n",
       "      <th>num_feat_33</th>\n",
       "      <th>num_feat_54</th>\n",
       "      <th>num_feat_56</th>\n",
       "      <th>num_feat_69</th>\n",
       "      <th>num_feat_76</th>\n",
       "      <th>num_feat_77</th>\n",
       "      <th>num_feat_92</th>\n",
       "    </tr>\n",
       "  </thead>\n",
       "  <tbody>\n",
       "    <tr>\n",
       "      <th>0</th>\n",
       "      <td>1.307710</td>\n",
       "      <td>-0.435413</td>\n",
       "      <td>1.068534</td>\n",
       "      <td>-1.522036</td>\n",
       "      <td>0.614324</td>\n",
       "      <td>-0.587480</td>\n",
       "      <td>0.200986</td>\n",
       "      <td>-0.881374</td>\n",
       "      <td>-0.139655</td>\n",
       "      <td>-0.284195</td>\n",
       "    </tr>\n",
       "    <tr>\n",
       "      <th>1</th>\n",
       "      <td>1.485108</td>\n",
       "      <td>0.908548</td>\n",
       "      <td>0.688033</td>\n",
       "      <td>-0.194384</td>\n",
       "      <td>-2.433331</td>\n",
       "      <td>0.380847</td>\n",
       "      <td>-1.651867</td>\n",
       "      <td>0.090233</td>\n",
       "      <td>-0.162364</td>\n",
       "      <td>0.132905</td>\n",
       "    </tr>\n",
       "    <tr>\n",
       "      <th>2</th>\n",
       "      <td>-0.685292</td>\n",
       "      <td>0.148837</td>\n",
       "      <td>0.339640</td>\n",
       "      <td>-0.146588</td>\n",
       "      <td>0.552402</td>\n",
       "      <td>0.414274</td>\n",
       "      <td>0.727286</td>\n",
       "      <td>-0.184041</td>\n",
       "      <td>-0.924947</td>\n",
       "      <td>0.686080</td>\n",
       "    </tr>\n",
       "    <tr>\n",
       "      <th>3</th>\n",
       "      <td>-1.736099</td>\n",
       "      <td>-1.381307</td>\n",
       "      <td>0.152017</td>\n",
       "      <td>1.632918</td>\n",
       "      <td>-1.300972</td>\n",
       "      <td>0.817929</td>\n",
       "      <td>0.957220</td>\n",
       "      <td>-1.011058</td>\n",
       "      <td>0.226855</td>\n",
       "      <td>-0.725132</td>\n",
       "    </tr>\n",
       "    <tr>\n",
       "      <th>4</th>\n",
       "      <td>-0.028753</td>\n",
       "      <td>0.773230</td>\n",
       "      <td>1.257774</td>\n",
       "      <td>-1.163159</td>\n",
       "      <td>-1.429979</td>\n",
       "      <td>-1.427078</td>\n",
       "      <td>0.158846</td>\n",
       "      <td>0.913014</td>\n",
       "      <td>0.327931</td>\n",
       "      <td>-1.584986</td>\n",
       "    </tr>\n",
       "  </tbody>\n",
       "</table>\n",
       "</div>"
      ],
      "text/plain": [
       "   num_feat_15  num_feat_17  num_feat_23  num_feat_33  num_feat_54  \\\n",
       "0     1.307710    -0.435413     1.068534    -1.522036     0.614324   \n",
       "1     1.485108     0.908548     0.688033    -0.194384    -2.433331   \n",
       "2    -0.685292     0.148837     0.339640    -0.146588     0.552402   \n",
       "3    -1.736099    -1.381307     0.152017     1.632918    -1.300972   \n",
       "4    -0.028753     0.773230     1.257774    -1.163159    -1.429979   \n",
       "\n",
       "   num_feat_56  num_feat_69  num_feat_76  num_feat_77  num_feat_92  \n",
       "0    -0.587480     0.200986    -0.881374    -0.139655    -0.284195  \n",
       "1     0.380847    -1.651867     0.090233    -0.162364     0.132905  \n",
       "2     0.414274     0.727286    -0.184041    -0.924947     0.686080  \n",
       "3     0.817929     0.957220    -1.011058     0.226855    -0.725132  \n",
       "4    -1.427078     0.158846     0.913014     0.327931    -1.584986  "
      ]
     },
     "execution_count": 100,
     "metadata": {},
     "output_type": "execute_result"
    }
   ],
   "source": [
    "features_df_new.head()"
   ]
  },
  {
   "cell_type": "code",
   "execution_count": null,
   "id": "63dcdcc0-c7b3-4041-ae4e-f7b3a1633a4f",
   "metadata": {},
   "outputs": [],
   "source": []
  }
 ],
 "metadata": {
  "kernelspec": {
   "display_name": "Python 3",
   "language": "python",
   "name": "python3"
  },
  "language_info": {
   "codemirror_mode": {
    "name": "ipython",
    "version": 3
   },
   "file_extension": ".py",
   "mimetype": "text/x-python",
   "name": "python",
   "nbconvert_exporter": "python",
   "pygments_lexer": "ipython3",
   "version": "3.8.8"
  }
 },
 "nbformat": 4,
 "nbformat_minor": 5
}
